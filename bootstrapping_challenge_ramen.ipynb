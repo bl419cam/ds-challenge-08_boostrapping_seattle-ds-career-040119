{
 "cells": [
  {
   "cell_type": "code",
   "execution_count": 1,
   "metadata": {
    "scrolled": true
   },
   "outputs": [],
   "source": [
    "import pandas as pd\n",
    "import numpy as np\n",
    "import matplotlib.pyplot as plt\n",
    "%matplotlib inline"
   ]
  },
  {
   "cell_type": "code",
   "execution_count": 2,
   "metadata": {},
   "outputs": [],
   "source": [
    "#data source - https://www.kaggle.com/residentmario/ramen-ratings\n",
    "#instant ramen noodle star ratings 0 to 5"
   ]
  },
  {
   "cell_type": "code",
   "execution_count": 3,
   "metadata": {},
   "outputs": [],
   "source": [
    "ramen_df = pd.read_csv('ramen-ratings.csv')"
   ]
  },
  {
   "cell_type": "code",
   "execution_count": 4,
   "metadata": {
    "scrolled": true
   },
   "outputs": [
    {
     "data": {
      "text/html": [
       "<div>\n",
       "<style scoped>\n",
       "    .dataframe tbody tr th:only-of-type {\n",
       "        vertical-align: middle;\n",
       "    }\n",
       "\n",
       "    .dataframe tbody tr th {\n",
       "        vertical-align: top;\n",
       "    }\n",
       "\n",
       "    .dataframe thead th {\n",
       "        text-align: right;\n",
       "    }\n",
       "</style>\n",
       "<table border=\"1\" class=\"dataframe\">\n",
       "  <thead>\n",
       "    <tr style=\"text-align: right;\">\n",
       "      <th></th>\n",
       "      <th>Review #</th>\n",
       "      <th>Brand</th>\n",
       "      <th>Variety</th>\n",
       "      <th>Style</th>\n",
       "      <th>Country</th>\n",
       "      <th>Stars</th>\n",
       "      <th>Top Ten</th>\n",
       "    </tr>\n",
       "  </thead>\n",
       "  <tbody>\n",
       "    <tr>\n",
       "      <th>0</th>\n",
       "      <td>2580</td>\n",
       "      <td>New Touch</td>\n",
       "      <td>T's Restaurant Tantanmen</td>\n",
       "      <td>Cup</td>\n",
       "      <td>Japan</td>\n",
       "      <td>3.75</td>\n",
       "      <td>NaN</td>\n",
       "    </tr>\n",
       "    <tr>\n",
       "      <th>1</th>\n",
       "      <td>2579</td>\n",
       "      <td>Just Way</td>\n",
       "      <td>Noodles Spicy Hot Sesame Spicy Hot Sesame Guan...</td>\n",
       "      <td>Pack</td>\n",
       "      <td>Taiwan</td>\n",
       "      <td>1</td>\n",
       "      <td>NaN</td>\n",
       "    </tr>\n",
       "    <tr>\n",
       "      <th>2</th>\n",
       "      <td>2578</td>\n",
       "      <td>Nissin</td>\n",
       "      <td>Cup Noodles Chicken Vegetable</td>\n",
       "      <td>Cup</td>\n",
       "      <td>USA</td>\n",
       "      <td>2.25</td>\n",
       "      <td>NaN</td>\n",
       "    </tr>\n",
       "    <tr>\n",
       "      <th>3</th>\n",
       "      <td>2577</td>\n",
       "      <td>Wei Lih</td>\n",
       "      <td>GGE Ramen Snack Tomato Flavor</td>\n",
       "      <td>Pack</td>\n",
       "      <td>Taiwan</td>\n",
       "      <td>2.75</td>\n",
       "      <td>NaN</td>\n",
       "    </tr>\n",
       "    <tr>\n",
       "      <th>4</th>\n",
       "      <td>2576</td>\n",
       "      <td>Ching's Secret</td>\n",
       "      <td>Singapore Curry</td>\n",
       "      <td>Pack</td>\n",
       "      <td>India</td>\n",
       "      <td>3.75</td>\n",
       "      <td>NaN</td>\n",
       "    </tr>\n",
       "  </tbody>\n",
       "</table>\n",
       "</div>"
      ],
      "text/plain": [
       "   Review #           Brand  \\\n",
       "0      2580       New Touch   \n",
       "1      2579        Just Way   \n",
       "2      2578          Nissin   \n",
       "3      2577         Wei Lih   \n",
       "4      2576  Ching's Secret   \n",
       "\n",
       "                                             Variety Style Country Stars  \\\n",
       "0                          T's Restaurant Tantanmen    Cup   Japan  3.75   \n",
       "1  Noodles Spicy Hot Sesame Spicy Hot Sesame Guan...  Pack  Taiwan     1   \n",
       "2                      Cup Noodles Chicken Vegetable   Cup     USA  2.25   \n",
       "3                      GGE Ramen Snack Tomato Flavor  Pack  Taiwan  2.75   \n",
       "4                                    Singapore Curry  Pack   India  3.75   \n",
       "\n",
       "  Top Ten  \n",
       "0     NaN  \n",
       "1     NaN  \n",
       "2     NaN  \n",
       "3     NaN  \n",
       "4     NaN  "
      ]
     },
     "execution_count": 4,
     "metadata": {},
     "output_type": "execute_result"
    }
   ],
   "source": [
    "ramen_df.head()"
   ]
  },
  {
   "cell_type": "code",
   "execution_count": 5,
   "metadata": {
    "scrolled": true
   },
   "outputs": [
    {
     "data": {
      "text/plain": [
       "Japan            352\n",
       "USA              323\n",
       "South Korea      309\n",
       "Taiwan           224\n",
       "Thailand         191\n",
       "China            169\n",
       "Malaysia         156\n",
       "Hong Kong        137\n",
       "Indonesia        126\n",
       "Singapore        109\n",
       "Vietnam          108\n",
       "UK                69\n",
       "Philippines       47\n",
       "Canada            41\n",
       "India             31\n",
       "Germany           27\n",
       "Mexico            25\n",
       "Australia         22\n",
       "Netherlands       15\n",
       "Myanmar           14\n",
       "Nepal             14\n",
       "Pakistan           9\n",
       "Hungary            9\n",
       "Bangladesh         7\n",
       "Colombia           6\n",
       "Cambodia           5\n",
       "Brazil             5\n",
       "Holland            4\n",
       "Poland             4\n",
       "Fiji               4\n",
       "Sarawak            3\n",
       "Sweden             3\n",
       "Finland            3\n",
       "Dubai              3\n",
       "Estonia            2\n",
       "Ghana              2\n",
       "Nigeria            1\n",
       "United States      1\n",
       "Name: Country, dtype: int64"
      ]
     },
     "execution_count": 5,
     "metadata": {},
     "output_type": "execute_result"
    }
   ],
   "source": [
    "ramen_df['Country'].value_counts()"
   ]
  },
  {
   "cell_type": "code",
   "execution_count": 6,
   "metadata": {},
   "outputs": [],
   "source": [
    "ramen_df['Stars'] = pd.to_numeric(ramen_df['Stars'], errors='coerce')"
   ]
  },
  {
   "cell_type": "code",
   "execution_count": 7,
   "metadata": {
    "scrolled": false
   },
   "outputs": [
    {
     "data": {
      "text/html": [
       "<div>\n",
       "<style scoped>\n",
       "    .dataframe tbody tr th:only-of-type {\n",
       "        vertical-align: middle;\n",
       "    }\n",
       "\n",
       "    .dataframe tbody tr th {\n",
       "        vertical-align: top;\n",
       "    }\n",
       "\n",
       "    .dataframe thead th {\n",
       "        text-align: right;\n",
       "    }\n",
       "</style>\n",
       "<table border=\"1\" class=\"dataframe\">\n",
       "  <thead>\n",
       "    <tr style=\"text-align: right;\">\n",
       "      <th></th>\n",
       "      <th>count</th>\n",
       "      <th>mean</th>\n",
       "      <th>std</th>\n",
       "      <th>min</th>\n",
       "      <th>25%</th>\n",
       "      <th>50%</th>\n",
       "      <th>75%</th>\n",
       "      <th>max</th>\n",
       "    </tr>\n",
       "    <tr>\n",
       "      <th>Country</th>\n",
       "      <th></th>\n",
       "      <th></th>\n",
       "      <th></th>\n",
       "      <th></th>\n",
       "      <th></th>\n",
       "      <th></th>\n",
       "      <th></th>\n",
       "      <th></th>\n",
       "    </tr>\n",
       "  </thead>\n",
       "  <tbody>\n",
       "    <tr>\n",
       "      <th>Japan</th>\n",
       "      <td>352.0</td>\n",
       "      <td>3.981605</td>\n",
       "      <td>0.913755</td>\n",
       "      <td>0.0</td>\n",
       "      <td>3.50</td>\n",
       "      <td>4.00</td>\n",
       "      <td>4.75</td>\n",
       "      <td>5.0</td>\n",
       "    </tr>\n",
       "    <tr>\n",
       "      <th>USA</th>\n",
       "      <td>323.0</td>\n",
       "      <td>3.457043</td>\n",
       "      <td>1.055773</td>\n",
       "      <td>0.0</td>\n",
       "      <td>3.00</td>\n",
       "      <td>3.50</td>\n",
       "      <td>4.00</td>\n",
       "      <td>5.0</td>\n",
       "    </tr>\n",
       "    <tr>\n",
       "      <th>South Korea</th>\n",
       "      <td>307.0</td>\n",
       "      <td>3.790554</td>\n",
       "      <td>0.869436</td>\n",
       "      <td>0.0</td>\n",
       "      <td>3.50</td>\n",
       "      <td>3.75</td>\n",
       "      <td>4.25</td>\n",
       "      <td>5.0</td>\n",
       "    </tr>\n",
       "    <tr>\n",
       "      <th>Taiwan</th>\n",
       "      <td>224.0</td>\n",
       "      <td>3.665402</td>\n",
       "      <td>1.155595</td>\n",
       "      <td>0.0</td>\n",
       "      <td>3.25</td>\n",
       "      <td>3.75</td>\n",
       "      <td>4.50</td>\n",
       "      <td>5.0</td>\n",
       "    </tr>\n",
       "    <tr>\n",
       "      <th>Thailand</th>\n",
       "      <td>191.0</td>\n",
       "      <td>3.384817</td>\n",
       "      <td>0.979476</td>\n",
       "      <td>0.1</td>\n",
       "      <td>3.00</td>\n",
       "      <td>3.50</td>\n",
       "      <td>4.00</td>\n",
       "      <td>5.0</td>\n",
       "    </tr>\n",
       "  </tbody>\n",
       "</table>\n",
       "</div>"
      ],
      "text/plain": [
       "             count      mean       std  min   25%   50%   75%  max\n",
       "Country                                                           \n",
       "Japan        352.0  3.981605  0.913755  0.0  3.50  4.00  4.75  5.0\n",
       "USA          323.0  3.457043  1.055773  0.0  3.00  3.50  4.00  5.0\n",
       "South Korea  307.0  3.790554  0.869436  0.0  3.50  3.75  4.25  5.0\n",
       "Taiwan       224.0  3.665402  1.155595  0.0  3.25  3.75  4.50  5.0\n",
       "Thailand     191.0  3.384817  0.979476  0.1  3.00  3.50  4.00  5.0"
      ]
     },
     "execution_count": 7,
     "metadata": {},
     "output_type": "execute_result"
    }
   ],
   "source": [
    "ramen_df.groupby('Country').describe()['Stars'].sort_values(by='count', ascending=False).head()"
   ]
  },
  {
   "cell_type": "code",
   "execution_count": 8,
   "metadata": {},
   "outputs": [],
   "source": [
    "#null hypothesis - there is no difference in star ratings between ramen in the USA and Japan\n",
    "#alternative - star ratings for ramen made in Japan are higher than that of the USA\n",
    "#alpha - 0.05"
   ]
  },
  {
   "cell_type": "code",
   "execution_count": 9,
   "metadata": {},
   "outputs": [],
   "source": [
    "jp_ramen_df = ramen_df.loc[ramen_df['Country']=='Japan']"
   ]
  },
  {
   "cell_type": "code",
   "execution_count": 10,
   "metadata": {},
   "outputs": [
    {
     "name": "stdout",
     "output_type": "stream",
     "text": [
      "<class 'pandas.core.frame.DataFrame'>\n",
      "Int64Index: 352 entries, 0 to 2568\n",
      "Data columns (total 7 columns):\n",
      "Review #    352 non-null int64\n",
      "Brand       352 non-null object\n",
      "Variety     352 non-null object\n",
      "Style       352 non-null object\n",
      "Country     352 non-null object\n",
      "Stars       352 non-null float64\n",
      "Top Ten     6 non-null object\n",
      "dtypes: float64(1), int64(1), object(5)\n",
      "memory usage: 22.0+ KB\n"
     ]
    }
   ],
   "source": [
    "jp_ramen_df.info()"
   ]
  },
  {
   "cell_type": "code",
   "execution_count": 11,
   "metadata": {},
   "outputs": [],
   "source": [
    "usa_ramen_df = ramen_df.loc[ramen_df['Country']=='USA']"
   ]
  },
  {
   "cell_type": "code",
   "execution_count": 12,
   "metadata": {},
   "outputs": [
    {
     "name": "stdout",
     "output_type": "stream",
     "text": [
      "<class 'pandas.core.frame.DataFrame'>\n",
      "Int64Index: 323 entries, 2 to 2579\n",
      "Data columns (total 7 columns):\n",
      "Review #    323 non-null int64\n",
      "Brand       323 non-null object\n",
      "Variety     323 non-null object\n",
      "Style       323 non-null object\n",
      "Country     323 non-null object\n",
      "Stars       323 non-null float64\n",
      "Top Ten     1 non-null object\n",
      "dtypes: float64(1), int64(1), object(5)\n",
      "memory usage: 20.2+ KB\n"
     ]
    }
   ],
   "source": [
    "usa_ramen_df.info()"
   ]
  },
  {
   "cell_type": "code",
   "execution_count": 13,
   "metadata": {},
   "outputs": [],
   "source": [
    "jp_stars = jp_ramen_df['Stars']\n",
    "usa_stars = usa_ramen_df['Stars']"
   ]
  },
  {
   "cell_type": "code",
   "execution_count": 31,
   "metadata": {},
   "outputs": [
    {
     "data": {
      "text/plain": [
       "<matplotlib.legend.Legend at 0x1201b47b8>"
      ]
     },
     "execution_count": 31,
     "metadata": {},
     "output_type": "execute_result"
    },
    {
     "data": {
      "image/png": "[encoded data removed]",
      "text/plain": [
       "<Figure size 432x288 with 1 Axes>"
      ]
     },
     "metadata": {
      "needs_background": "light"
     },
     "output_type": "display_data"
    }
   ],
   "source": [
    "plt.hist(jp_stars, label='Japan');\n",
    "plt.hist(usa_stars, label='USA', alpha=0.5);\n",
    "plt.title('Instant Ramen Star Rating Distribution')\n",
    "plt.legend()"
   ]
  },
  {
   "cell_type": "code",
   "execution_count": 15,
   "metadata": {},
   "outputs": [],
   "source": [
    "#def bootstrap_sample(sample):\n",
    "#    n = len(sample)\n",
    "#    boot_sample = np.random.choice(sample, size=n)\n",
    "#    return boot_sample"
   ]
  },
  {
   "cell_type": "code",
   "execution_count": 16,
   "metadata": {},
   "outputs": [],
   "source": [
    "n = 100000\n",
    "jp_bootstrap_samples = []\n",
    "usa_bootstrap_samples = []\n",
    "jp_bootstrap_means = np.zeros(n)\n",
    "usa_bootstrap_means = np.zeros(n)\n",
    "for i in range(n):\n",
    "    jp_bootstrap = np.random.choice(jp_stars, size=len(jp_stars))\n",
    "    usa_bootstrap = np.random.choice(usa_stars, size=len(usa_stars))\n",
    "    #jp_bootstrap.append(jp_bootstrap)\n",
    "    #usa_bootstrap.append(bootstrap_sample(usa_bootstrap))\n",
    "    jp_bootstrap_means[i] = (jp_bootstrap.mean())\n",
    "    usa_bootstrap_means[i] = (usa_bootstrap.mean())"
   ]
  },
  {
   "cell_type": "code",
   "execution_count": 17,
   "metadata": {
    "scrolled": true
   },
   "outputs": [
    {
     "data": {
      "text/plain": [
       "9.99999999995449e-06"
      ]
     },
     "execution_count": 17,
     "metadata": {},
     "output_type": "execute_result"
    }
   ],
   "source": [
    "1-sum((jp_bootstrap_means - usa_bootstrap_means)>0.2)/n"
   ]
  },
  {
   "cell_type": "code",
   "execution_count": 18,
   "metadata": {},
   "outputs": [],
   "source": [
    "p_dict = {}\n",
    "for p in range(0, 10):\n",
    "    p_dict['0.'+str(p)] = 1-sum(((jp_bootstrap_means - usa_bootstrap_means)>(p/10)))/n"
   ]
  },
  {
   "cell_type": "code",
   "execution_count": 19,
   "metadata": {
    "scrolled": false
   },
   "outputs": [
    {
     "data": {
      "text/plain": [
       "{'0.0': 0.0,\n",
       " '0.1': 0.0,\n",
       " '0.2': 9.99999999995449e-06,\n",
       " '0.3': 0.0016899999999999693,\n",
       " '0.4': 0.05157999999999996,\n",
       " '0.5': 0.3729,\n",
       " '0.6': 0.83995,\n",
       " '0.7': 0.98852,\n",
       " '0.8': 0.99983,\n",
       " '0.9': 1.0}"
      ]
     },
     "execution_count": 19,
     "metadata": {},
     "output_type": "execute_result"
    }
   ],
   "source": [
    "#effect magnitude(left) compared to p-value(right)\n",
    "p_dict"
   ]
  },
  {
   "cell_type": "code",
   "execution_count": 20,
   "metadata": {},
   "outputs": [],
   "source": [
    "#reject null hypothesis\n",
    "#on average instant ramen from Japan have higher rating than those from USA\n",
    "#with alpha of 0.05, null hypothesis can be rejected up to difference in mean star rating of 0.3"
   ]
  },
  {
   "cell_type": "code",
   "execution_count": 30,
   "metadata": {
    "scrolled": true
   },
   "outputs": [
    {
     "data": {
      "text/plain": [
       "<matplotlib.legend.Legend at 0x10ff10c18>"
      ]
     },
     "execution_count": 30,
     "metadata": {},
     "output_type": "execute_result"
    },
    {
     "data": {
      "image/png": "[encoded data removed]",
      "text/plain": [
       "<Figure size 432x288 with 1 Axes>"
      ]
     },
     "metadata": {
      "needs_background": "light"
     },
     "output_type": "display_data"
    }
   ],
   "source": [
    "plt.hist(jp_bootstrap_means, label='Japan');\n",
    "plt.hist(usa_bootstrap_means, label='USA');\n",
    "plt.title('Bootstrap Means')\n",
    "plt.legend()"
   ]
  },
  {
   "cell_type": "code",
   "execution_count": 26,
   "metadata": {},
   "outputs": [
    {
     "data": {
      "text/plain": [
       "array([3.75 , 4.   , 0.25 , 4.5  , 4.75 , 1.5  , 3.5  , 5.   , 4.25 ,\n",
       "       2.   , 2.5  , 3.   , 1.75 , 3.8  , 4.3  , 0.   , 0.75 , 2.75 ,\n",
       "       3.25 , 1.   , 2.25 , 1.25 , 4.125])"
      ]
     },
     "execution_count": 26,
     "metadata": {},
     "output_type": "execute_result"
    }
   ],
   "source": [
    "jp_stars.unique()"
   ]
  },
  {
   "cell_type": "code",
   "execution_count": 29,
   "metadata": {},
   "outputs": [
    {
     "data": {
      "text/plain": [
       "array([2.25 , 5.   , 4.75 , 1.5  , 3.5  , 3.75 , 0.   , 3.25 , 4.   ,\n",
       "       2.5  , 3.   , 2.   , 4.25 , 1.   , 0.25 , 4.5  , 2.75 , 1.75 ,\n",
       "       1.25 , 2.125, 0.5  ])"
      ]
     },
     "execution_count": 29,
     "metadata": {},
     "output_type": "execute_result"
    }
   ],
   "source": [
    "usa_stars.unique()"
   ]
  },
  {
   "cell_type": "code",
   "execution_count": 33,
   "metadata": {},
   "outputs": [],
   "source": [
    "#utilize traditional AB testing methods, t-test\n",
    "from scipy import stats"
   ]
  },
  {
   "cell_type": "code",
   "execution_count": 35,
   "metadata": {},
   "outputs": [
    {
     "data": {
      "text/plain": [
       "(6.874240416647977, 7.418597906572842e-12)"
      ]
     },
     "execution_count": 35,
     "metadata": {},
     "output_type": "execute_result"
    }
   ],
   "source": [
    "t, p= stats.ttest_ind(jp_stars, usa_stars, equal_var=False)\n",
    "t, p/2"
   ]
  },
  {
   "cell_type": "code",
   "execution_count": null,
   "metadata": {},
   "outputs": [],
   "source": [
    "#welch t-test result agree with bootstrapping, but less extreme"
   ]
  }
 ],
 "metadata": {
  "kernelspec": {
   "display_name": "Python [conda env:learn-env] *",
   "language": "python",
   "name": "conda-env-learn-env-py"
  },
  "language_info": {
   "codemirror_mode": {
    "name": "ipython",
    "version": 3
   },
   "file_extension": ".py",
   "mimetype": "text/x-python",
   "name": "python",
   "nbconvert_exporter": "python",
   "pygments_lexer": "ipython3",
   "version": "3.6.6"
  }
 },
 "nbformat": 4,
 "nbformat_minor": 2
}
